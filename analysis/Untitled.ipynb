{
 "cells": [
  {
   "cell_type": "code",
   "execution_count": 1,
   "metadata": {
    "collapsed": true
   },
   "outputs": [],
   "source": [
    "import pandas as pd\n",
    "%matplotlib inline\n",
    "import matplotlib\n",
    "import matplotlib.pyplot as plt\n",
    "import seaborn as sns"
   ]
  },
  {
   "cell_type": "code",
   "execution_count": 6,
   "metadata": {
    "collapsed": false
   },
   "outputs": [
    {
     "data": {
      "text/plain": [
       "Index([u'avg_spread', u'kaggle_id', u'rpi', u'season', u'team_name', u'fg_pct',\n",
       "       u'fg3_pct', u'opp_fg_pct', u'opp_fg3_pct', u'ast/to', u'oe', u'de',\n",
       "       u'fgm_pm', u'opp_fgm_pm', u'fga_pm', u'opp_fga_pm', u'fgm3_pm',\n",
       "       u'opp_fgm3_pm', u'fga3_pm', u'opp_fga3_pm', u'ast_pm', u'opp_ast_pm',\n",
       "       u'blk_pm', u'opp_blk_pm', u'ftm_pm', u'opp_ftm_pm', u'fta_pm',\n",
       "       u'opp_fta_pm', u'stl_pm', u'opp_stl_pm', u'pts_pm', u'opp_pts_pm',\n",
       "       u'or_pm', u'opp_or_pm', u'dr_pm', u'opp_dr_pm', u'pf_pm', u'opp_pf_pm',\n",
       "       u'to_pm', u'opp_to_pm'],\n",
       "      dtype='object')"
      ]
     },
     "execution_count": 6,
     "metadata": {},
     "output_type": "execute_result"
    }
   ],
   "source": [
    "data = pd.read_csv('../data/final/2016.csv')\n",
    "data.keys()"
   ]
  },
  {
   "cell_type": "code",
   "execution_count": 11,
   "metadata": {
    "collapsed": false
   },
   "outputs": [
    {
     "name": "stdout",
     "output_type": "stream",
     "text": [
      "169    16.382353\n",
      "183     4.096774\n",
      "Name: avg_spread, dtype: float64\n",
      "169    1277\n",
      "183    1292\n",
      "Name: kaggle_id, dtype: int64\n",
      "169    0.620683\n",
      "183    0.548549\n",
      "Name: rpi, dtype: float64\n",
      "169    2016\n",
      "183    2016\n",
      "Name: season, dtype: int64\n",
      "169    Michigan St\n",
      "183           MTSU\n",
      "Name: team_name, dtype: object\n",
      "169    0.483696\n",
      "183    0.448854\n",
      "Name: fg_pct, dtype: float64\n",
      "169    0.433566\n",
      "183    0.388715\n",
      "Name: fg3_pct, dtype: float64\n",
      "169    0.376907\n",
      "183    0.427553\n",
      "Name: opp_fg_pct, dtype: float64\n",
      "169    0.302034\n",
      "183    0.340949\n",
      "Name: opp_fg3_pct, dtype: float64\n",
      "169    1.743142\n",
      "183    1.091892\n",
      "Name: ast/to, dtype: float64\n",
      "169    2.438386e+09\n",
      "183    1.903505e+09\n",
      "Name: oe, dtype: float64\n",
      "169    94.072967\n",
      "183    97.735675\n",
      "Name: de, dtype: float64\n",
      "169    0.714599\n",
      "183    0.644980\n",
      "Name: fgm_pm, dtype: float64\n",
      "169    0.540876\n",
      "183    0.578313\n",
      "Name: opp_fgm_pm, dtype: float64\n",
      "169    1.477372\n",
      "183    1.436948\n",
      "Name: fga_pm, dtype: float64\n",
      "169    1.435036\n",
      "183    1.352610\n",
      "Name: opp_fga_pm, dtype: float64\n",
      "169    0.226277\n",
      "183    0.199197\n",
      "Name: fgm3_pm, dtype: float64\n",
      "169    0.140876\n",
      "183    0.155823\n",
      "Name: opp_fgm3_pm, dtype: float64\n",
      "169    0.521898\n",
      "183    0.512450\n",
      "Name: fga3_pm, dtype: float64\n",
      "169    0.466423\n",
      "183    0.457028\n",
      "Name: opp_fga3_pm, dtype: float64\n",
      "169    0.510219\n",
      "183    0.324498\n",
      "Name: ast_pm, dtype: float64\n",
      "169    0.263504\n",
      "183    0.285141\n",
      "Name: opp_ast_pm, dtype: float64\n",
      "169    0.127737\n",
      "183    0.086747\n",
      "Name: blk_pm, dtype: float64\n",
      "169    0.080292\n",
      "183    0.069076\n",
      "Name: opp_blk_pm, dtype: float64\n",
      "169    0.324088\n",
      "183    0.311647\n",
      "Name: ftm_pm, dtype: float64\n",
      "169    0.350365\n",
      "183    0.386345\n",
      "Name: opp_ftm_pm, dtype: float64\n",
      "169    0.443796\n",
      "183    0.513253\n",
      "Name: fta_pm, dtype: float64\n",
      "169    0.488321\n",
      "183    0.578313\n",
      "Name: opp_fta_pm, dtype: float64\n",
      "169    0.109489\n",
      "183    0.155823\n",
      "Name: stl_pm, dtype: float64\n",
      "169    0.132117\n",
      "183    0.145382\n",
      "Name: opp_stl_pm, dtype: float64\n",
      "169    1.979562\n",
      "183    1.800803\n",
      "Name: pts_pm, dtype: float64\n",
      "169    1.572993\n",
      "183    1.698795\n",
      "Name: opp_pts_pm, dtype: float64\n",
      "169    0.305109\n",
      "183    0.255422\n",
      "Name: or_pm, dtype: float64\n",
      "169    0.232117\n",
      "183    0.225703\n",
      "Name: opp_or_pm, dtype: float64\n",
      "169    0.733577\n",
      "183    0.661044\n",
      "Name: dr_pm, dtype: float64\n",
      "169    0.514599\n",
      "183    0.648996\n",
      "Name: opp_dr_pm, dtype: float64\n",
      "169    0.473723\n",
      "183    0.509237\n",
      "Name: pf_pm, dtype: float64\n",
      "169    0.435766\n",
      "183    0.469076\n",
      "Name: opp_pf_pm, dtype: float64\n",
      "169    0.292701\n",
      "183    0.297189\n",
      "Name: to_pm, dtype: float64\n",
      "169    0.237226\n",
      "183    0.336546\n",
      "Name: opp_to_pm, dtype: float64\n"
     ]
    }
   ],
   "source": [
    "tmp = data[data['team_name'].isin(['Michigan St','MTSU'])]\n",
    "\n",
    "for key in tmp.keys():\n",
    "    print tmp[key]"
   ]
  },
  {
   "cell_type": "code",
   "execution_count": null,
   "metadata": {
    "collapsed": true
   },
   "outputs": [],
   "source": []
  }
 ],
 "metadata": {
  "kernelspec": {
   "display_name": "Python 2",
   "language": "python",
   "name": "python2"
  },
  "language_info": {
   "codemirror_mode": {
    "name": "ipython",
    "version": 2
   },
   "file_extension": ".py",
   "mimetype": "text/x-python",
   "name": "python",
   "nbconvert_exporter": "python",
   "pygments_lexer": "ipython2",
   "version": "2.7.12"
  }
 },
 "nbformat": 4,
 "nbformat_minor": 0
}
